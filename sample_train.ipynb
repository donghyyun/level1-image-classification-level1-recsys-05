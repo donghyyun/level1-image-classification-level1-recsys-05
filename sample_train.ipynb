{
 "cells": [
  {
   "cell_type": "code",
   "execution_count": 1,
   "id": "107ba09b-136c-430e-ac55-c1df047dc358",
   "metadata": {},
   "outputs": [],
   "source": [
    "import os, sys\n",
    "import pandas as pd\n",
    "from PIL import Image\n",
    "\n",
    "from tqdm import tqdm\n",
    "\n",
    "import torch\n",
    "import torch.nn as nn\n",
    "import torch.optim as optim\n",
    "import torch.nn.functional as F\n",
    "from torch.utils.data import Dataset, DataLoader\n",
    "from torch.utils.data.dataset import random_split\n",
    "\n",
    "from torchvision import transforms, models\n",
    "from torchvision.transforms import Resize, ToTensor, Normalize"
   ]
  },
  {
   "cell_type": "code",
   "execution_count": 2,
   "id": "2816ad99-fcb7-4945-b672-f601f9a5402e",
   "metadata": {},
   "outputs": [],
   "source": [
    "\"\"\"\n",
    "common variable setting\n",
    "* train_dir: directory of train dataset\n",
    "* train_df: pd.DataFrame from 'train.csv'\n",
    "\n",
    "* new_train_path: new path for revised .csv file\n",
    "* new_train_df: pd.DataFrame for 'new_train.csv'\n",
    "\"\"\"\n",
    "train_dir = '/opt/ml/input/data/train'\n",
    "train_df = pd.read_csv(os.path.join(train_dir, 'train.csv'))\n",
    "\n",
    "new_train_path = os.path.join(train_dir, 'new_train.csv')\n",
    "new_train_df = pd.DataFrame(None, columns=['path', 'label'])\n",
    "\n",
    "batch_size = 10\n",
    "num_epoch = 5\n",
    "learning_rate = 0.0001"
   ]
  },
  {
   "cell_type": "code",
   "execution_count": 3,
   "id": "97cb7d51-459b-4390-9fb7-a34f72e6d0c2",
   "metadata": {},
   "outputs": [
    {
     "data": {
      "text/html": [
       "<div>\n",
       "<style scoped>\n",
       "    .dataframe tbody tr th:only-of-type {\n",
       "        vertical-align: middle;\n",
       "    }\n",
       "\n",
       "    .dataframe tbody tr th {\n",
       "        vertical-align: top;\n",
       "    }\n",
       "\n",
       "    .dataframe thead th {\n",
       "        text-align: right;\n",
       "    }\n",
       "</style>\n",
       "<table border=\"1\" class=\"dataframe\">\n",
       "  <thead>\n",
       "    <tr style=\"text-align: right;\">\n",
       "      <th></th>\n",
       "      <th>path</th>\n",
       "      <th>label</th>\n",
       "    </tr>\n",
       "  </thead>\n",
       "  <tbody>\n",
       "    <tr>\n",
       "      <th>0</th>\n",
       "      <td>/opt/ml/input/data/train/images/000001_female_...</td>\n",
       "      <td>10</td>\n",
       "    </tr>\n",
       "    <tr>\n",
       "      <th>1</th>\n",
       "      <td>/opt/ml/input/data/train/images/000001_female_...</td>\n",
       "      <td>4</td>\n",
       "    </tr>\n",
       "    <tr>\n",
       "      <th>2</th>\n",
       "      <td>/opt/ml/input/data/train/images/000001_female_...</td>\n",
       "      <td>4</td>\n",
       "    </tr>\n",
       "    <tr>\n",
       "      <th>3</th>\n",
       "      <td>/opt/ml/input/data/train/images/000001_female_...</td>\n",
       "      <td>4</td>\n",
       "    </tr>\n",
       "    <tr>\n",
       "      <th>4</th>\n",
       "      <td>/opt/ml/input/data/train/images/000001_female_...</td>\n",
       "      <td>4</td>\n",
       "    </tr>\n",
       "  </tbody>\n",
       "</table>\n",
       "</div>"
      ],
      "text/plain": [
       "                                                path label\n",
       "0  /opt/ml/input/data/train/images/000001_female_...    10\n",
       "1  /opt/ml/input/data/train/images/000001_female_...     4\n",
       "2  /opt/ml/input/data/train/images/000001_female_...     4\n",
       "3  /opt/ml/input/data/train/images/000001_female_...     4\n",
       "4  /opt/ml/input/data/train/images/000001_female_...     4"
      ]
     },
     "execution_count": 3,
     "metadata": {},
     "output_type": "execute_result"
    }
   ],
   "source": [
    "# train.csv를 수정해서 new_train.csv로 저장, 시간이 조금 걸립니다.\n",
    "def cal_label(gender, age, mask):\n",
    "    def cal_age(n):\n",
    "        if n < 30:\n",
    "            return 0\n",
    "        elif n >= 60:\n",
    "            return 2\n",
    "        else:\n",
    "            return 1\n",
    "        \n",
    "    _gender = 0 if gender == 'male' else 1\n",
    "    _age = cal_age(age)\n",
    "    _mask = {'incorrect_mask': 1, \n",
    "             'normal': 2\n",
    "            }.get(mask, 0)\n",
    "    \n",
    "    return _mask * 6 + _gender * 3 + _age\n",
    "\n",
    "for row in train_df.itertuples():\n",
    "    img_dir = os.path.join(train_dir, 'images', row.path)\n",
    "    img_names = [file for file in os.listdir(img_dir) if not file.startswith('.')]\n",
    "    \n",
    "    for name in img_names:\n",
    "        data = {\n",
    "            'path': os.path.join(img_dir, name),\n",
    "            'label': cal_label(row.gender, row.age, name.split('.')[0])\n",
    "        }\n",
    "        \n",
    "        new_train_df = new_train_df.append(data, ignore_index=True)\n",
    "\n",
    "new_train_df.to_csv(new_train_path, index=False)\n",
    "new_train_df.head()"
   ]
  },
  {
   "cell_type": "code",
   "execution_count": 4,
   "id": "e6bbc31a-261e-4937-a127-4cf659e843d7",
   "metadata": {},
   "outputs": [],
   "source": [
    "# Custom mask dataset\n",
    "class MaskDataset(Dataset):\n",
    "    def __init__(self, df, transform=transforms.Compose([ToTensor()])):\n",
    "        self.img_paths = df.path.tolist()\n",
    "        self.labels = df.label.tolist()\n",
    "        self.transform = transform\n",
    "\n",
    "    def __getitem__(self, index):\n",
    "        X = Image.open(self.img_paths[index])\n",
    "        Y = self.labels[index]\n",
    "\n",
    "        return self.transform(X), Y\n",
    "\n",
    "    def __len__(self):\n",
    "        return len(self.img_paths)"
   ]
  },
  {
   "cell_type": "code",
   "execution_count": 5,
   "id": "ba0df737-39d4-482c-b3ed-dd9b8e9ef0c9",
   "metadata": {},
   "outputs": [
    {
     "name": "stdout",
     "output_type": "stream",
     "text": [
      "Dataset size\n",
      "  train: 15120\n",
      "  valid: 3780\n",
      "\n",
      "Dataloader size\n",
      "  X: torch.Size([10, 3, 512, 384])\n",
      "  Y: torch.Size([10])\n"
     ]
    }
   ],
   "source": [
    "# datset, dataloader setting\n",
    "transform = transforms.Compose([\n",
    "    Resize((512, 384), Image.BILINEAR),\n",
    "    ToTensor(),\n",
    "    Normalize(mean=(0.5, 0.5, 0.5), std=(0.2, 0.2, 0.2)),\n",
    "])\n",
    "\n",
    "dataset = MaskDataset(new_train_df, transform=transform)\n",
    "train_len = int(len(dataset) * 0.8)\n",
    "valid_len = len(dataset) - train_len\n",
    "\n",
    "train_dataset, valid_dataset = random_split(dataset, [train_len, valid_len])\n",
    "\n",
    "dataloader = {\n",
    "    'train': DataLoader(train_dataset, batch_size=batch_size, shuffle=True),\n",
    "    'val': DataLoader(valid_dataset, shuffle=False)\n",
    "}\n",
    "\n",
    "\n",
    "print(f\"Dataset size\\n  train: {len(train_dataset)}\\n  valid: {len(valid_dataset)}\\n\")\n",
    "imgs, labels = next(iter(dataloader['train']))\n",
    "print(f\"Dataloader size\\n  X: {imgs.size()}\\n  Y: {labels.size()}\")"
   ]
  },
  {
   "cell_type": "code",
   "execution_count": 6,
   "id": "ef4a9328-885f-4743-b949-e6df11aceab4",
   "metadata": {},
   "outputs": [
    {
     "name": "stdout",
     "output_type": "stream",
     "text": [
      "ResNet(\n",
      "  (conv1): Conv2d(3, 64, kernel_size=(7, 7), stride=(2, 2), padding=(3, 3), bias=False)\n",
      "  (bn1): BatchNorm2d(64, eps=1e-05, momentum=0.1, affine=True, track_running_stats=True)\n",
      "  (relu): ReLU(inplace=True)\n",
      "  (maxpool): MaxPool2d(kernel_size=3, stride=2, padding=1, dilation=1, ceil_mode=False)\n",
      "  (layer1): Sequential(\n",
      "    (0): BasicBlock(\n",
      "      (conv1): Conv2d(64, 64, kernel_size=(3, 3), stride=(1, 1), padding=(1, 1), bias=False)\n",
      "      (bn1): BatchNorm2d(64, eps=1e-05, momentum=0.1, affine=True, track_running_stats=True)\n",
      "      (relu): ReLU(inplace=True)\n",
      "      (conv2): Conv2d(64, 64, kernel_size=(3, 3), stride=(1, 1), padding=(1, 1), bias=False)\n",
      "      (bn2): BatchNorm2d(64, eps=1e-05, momentum=0.1, affine=True, track_running_stats=True)\n",
      "    )\n",
      "    (1): BasicBlock(\n",
      "      (conv1): Conv2d(64, 64, kernel_size=(3, 3), stride=(1, 1), padding=(1, 1), bias=False)\n",
      "      (bn1): BatchNorm2d(64, eps=1e-05, momentum=0.1, affine=True, track_running_stats=True)\n",
      "      (relu): ReLU(inplace=True)\n",
      "      (conv2): Conv2d(64, 64, kernel_size=(3, 3), stride=(1, 1), padding=(1, 1), bias=False)\n",
      "      (bn2): BatchNorm2d(64, eps=1e-05, momentum=0.1, affine=True, track_running_stats=True)\n",
      "    )\n",
      "  )\n",
      "  (layer2): Sequential(\n",
      "    (0): BasicBlock(\n",
      "      (conv1): Conv2d(64, 128, kernel_size=(3, 3), stride=(2, 2), padding=(1, 1), bias=False)\n",
      "      (bn1): BatchNorm2d(128, eps=1e-05, momentum=0.1, affine=True, track_running_stats=True)\n",
      "      (relu): ReLU(inplace=True)\n",
      "      (conv2): Conv2d(128, 128, kernel_size=(3, 3), stride=(1, 1), padding=(1, 1), bias=False)\n",
      "      (bn2): BatchNorm2d(128, eps=1e-05, momentum=0.1, affine=True, track_running_stats=True)\n",
      "      (downsample): Sequential(\n",
      "        (0): Conv2d(64, 128, kernel_size=(1, 1), stride=(2, 2), bias=False)\n",
      "        (1): BatchNorm2d(128, eps=1e-05, momentum=0.1, affine=True, track_running_stats=True)\n",
      "      )\n",
      "    )\n",
      "    (1): BasicBlock(\n",
      "      (conv1): Conv2d(128, 128, kernel_size=(3, 3), stride=(1, 1), padding=(1, 1), bias=False)\n",
      "      (bn1): BatchNorm2d(128, eps=1e-05, momentum=0.1, affine=True, track_running_stats=True)\n",
      "      (relu): ReLU(inplace=True)\n",
      "      (conv2): Conv2d(128, 128, kernel_size=(3, 3), stride=(1, 1), padding=(1, 1), bias=False)\n",
      "      (bn2): BatchNorm2d(128, eps=1e-05, momentum=0.1, affine=True, track_running_stats=True)\n",
      "    )\n",
      "  )\n",
      "  (layer3): Sequential(\n",
      "    (0): BasicBlock(\n",
      "      (conv1): Conv2d(128, 256, kernel_size=(3, 3), stride=(2, 2), padding=(1, 1), bias=False)\n",
      "      (bn1): BatchNorm2d(256, eps=1e-05, momentum=0.1, affine=True, track_running_stats=True)\n",
      "      (relu): ReLU(inplace=True)\n",
      "      (conv2): Conv2d(256, 256, kernel_size=(3, 3), stride=(1, 1), padding=(1, 1), bias=False)\n",
      "      (bn2): BatchNorm2d(256, eps=1e-05, momentum=0.1, affine=True, track_running_stats=True)\n",
      "      (downsample): Sequential(\n",
      "        (0): Conv2d(128, 256, kernel_size=(1, 1), stride=(2, 2), bias=False)\n",
      "        (1): BatchNorm2d(256, eps=1e-05, momentum=0.1, affine=True, track_running_stats=True)\n",
      "      )\n",
      "    )\n",
      "    (1): BasicBlock(\n",
      "      (conv1): Conv2d(256, 256, kernel_size=(3, 3), stride=(1, 1), padding=(1, 1), bias=False)\n",
      "      (bn1): BatchNorm2d(256, eps=1e-05, momentum=0.1, affine=True, track_running_stats=True)\n",
      "      (relu): ReLU(inplace=True)\n",
      "      (conv2): Conv2d(256, 256, kernel_size=(3, 3), stride=(1, 1), padding=(1, 1), bias=False)\n",
      "      (bn2): BatchNorm2d(256, eps=1e-05, momentum=0.1, affine=True, track_running_stats=True)\n",
      "    )\n",
      "  )\n",
      "  (layer4): Sequential(\n",
      "    (0): BasicBlock(\n",
      "      (conv1): Conv2d(256, 512, kernel_size=(3, 3), stride=(2, 2), padding=(1, 1), bias=False)\n",
      "      (bn1): BatchNorm2d(512, eps=1e-05, momentum=0.1, affine=True, track_running_stats=True)\n",
      "      (relu): ReLU(inplace=True)\n",
      "      (conv2): Conv2d(512, 512, kernel_size=(3, 3), stride=(1, 1), padding=(1, 1), bias=False)\n",
      "      (bn2): BatchNorm2d(512, eps=1e-05, momentum=0.1, affine=True, track_running_stats=True)\n",
      "      (downsample): Sequential(\n",
      "        (0): Conv2d(256, 512, kernel_size=(1, 1), stride=(2, 2), bias=False)\n",
      "        (1): BatchNorm2d(512, eps=1e-05, momentum=0.1, affine=True, track_running_stats=True)\n",
      "      )\n",
      "    )\n",
      "    (1): BasicBlock(\n",
      "      (conv1): Conv2d(512, 512, kernel_size=(3, 3), stride=(1, 1), padding=(1, 1), bias=False)\n",
      "      (bn1): BatchNorm2d(512, eps=1e-05, momentum=0.1, affine=True, track_running_stats=True)\n",
      "      (relu): ReLU(inplace=True)\n",
      "      (conv2): Conv2d(512, 512, kernel_size=(3, 3), stride=(1, 1), padding=(1, 1), bias=False)\n",
      "      (bn2): BatchNorm2d(512, eps=1e-05, momentum=0.1, affine=True, track_running_stats=True)\n",
      "    )\n",
      "  )\n",
      "  (avgpool): AdaptiveAvgPool2d(output_size=(1, 1))\n",
      "  (fc): Linear(in_features=512, out_features=18, bias=True)\n",
      ")\n"
     ]
    }
   ],
   "source": [
    "# model setting\n",
    "model = models.resnet18(pretrained=True)\n",
    "model.fc = nn.Linear(model.fc.in_features, 18)\n",
    "print(model)"
   ]
  },
  {
   "cell_type": "code",
   "execution_count": 7,
   "id": "13c2c1f1-8100-43b6-8c30-0f47469b5c06",
   "metadata": {},
   "outputs": [],
   "source": [
    "# train parameter setting\n",
    "device = torch.device('cuda')\n",
    "\n",
    "model.to(device)\n",
    "criterion = nn.CrossEntropyLoss()\n",
    "optimizer = optim.Adam(model.parameters(), lr=learning_rate)"
   ]
  },
  {
   "cell_type": "code",
   "execution_count": 8,
   "id": "a2664f7b-0987-4c98-8a30-ce9e9400a49c",
   "metadata": {},
   "outputs": [
    {
     "name": "stderr",
     "output_type": "stream",
     "text": [
      "  0%|          | 0/1512 [00:00<?, ?it/s]"
     ]
    },
    {
     "name": "stdout",
     "output_type": "stream",
     "text": [
      "Epoch 1/5\n",
      "----------\n"
     ]
    },
    {
     "name": "stderr",
     "output_type": "stream",
     "text": [
      "100%|██████████| 1512/1512 [03:26<00:00,  7.32it/s]\n",
      "  0%|          | 1/1512 [00:00<03:35,  7.00it/s]"
     ]
    },
    {
     "name": "stdout",
     "output_type": "stream",
     "text": [
      "train_loss: 0.0477\ttrain_accuracy: 0.8614\n",
      "val_loss: 0.1896\tval_accuracy: 0.9407\n",
      "\n",
      "Epoch 2/5\n",
      "----------\n"
     ]
    },
    {
     "name": "stderr",
     "output_type": "stream",
     "text": [
      "100%|██████████| 1512/1512 [03:25<00:00,  7.36it/s]\n",
      "  0%|          | 1/1512 [00:00<03:40,  6.84it/s]"
     ]
    },
    {
     "name": "stdout",
     "output_type": "stream",
     "text": [
      "train_loss: 0.0137\ttrain_accuracy: 0.9608\n",
      "val_loss: 0.0788\tval_accuracy: 0.9778\n",
      "\n",
      "Epoch 3/5\n",
      "----------\n"
     ]
    },
    {
     "name": "stderr",
     "output_type": "stream",
     "text": [
      "100%|██████████| 1512/1512 [03:25<00:00,  7.35it/s]\n",
      "  0%|          | 1/1512 [00:00<03:39,  6.88it/s]"
     ]
    },
    {
     "name": "stdout",
     "output_type": "stream",
     "text": [
      "train_loss: 0.0074\ttrain_accuracy: 0.9790\n",
      "val_loss: 0.1308\tval_accuracy: 0.9574\n",
      "\n",
      "Epoch 4/5\n",
      "----------\n"
     ]
    },
    {
     "name": "stderr",
     "output_type": "stream",
     "text": [
      "100%|██████████| 1512/1512 [03:23<00:00,  7.43it/s]\n",
      "  0%|          | 1/1512 [00:00<03:30,  7.16it/s]"
     ]
    },
    {
     "name": "stdout",
     "output_type": "stream",
     "text": [
      "train_loss: 0.0051\ttrain_accuracy: 0.9852\n",
      "val_loss: 0.0465\tval_accuracy: 0.9892\n",
      "\n",
      "Epoch 5/5\n",
      "----------\n"
     ]
    },
    {
     "name": "stderr",
     "output_type": "stream",
     "text": [
      "100%|██████████| 1512/1512 [03:22<00:00,  7.45it/s]\n"
     ]
    },
    {
     "name": "stdout",
     "output_type": "stream",
     "text": [
      "train_loss: 0.0038\ttrain_accuracy: 0.9886\n",
      "val_loss: 0.1044\tval_accuracy: 0.9685\n",
      "\n"
     ]
    }
   ],
   "source": [
    "# train process\n",
    "for i in range(1, num_epoch + 1):\n",
    "    ##### train ####\n",
    "    model.train()\n",
    "    train_loss = 0.\n",
    "    train_accu = 0.\n",
    "    for imgs, labels in tqdm(dataloader['train']):\n",
    "        imgs, labels = imgs.to(device), labels.to(device)\n",
    "        \n",
    "        optimizer.zero_grad()\n",
    "        logit = model(imgs)        \n",
    "        loss = criterion(logit, labels)\n",
    "        loss.backward()\n",
    "        optimizer.step()\n",
    "        \n",
    "        _, preds = logit.max(dim=1)\n",
    "        train_loss += loss.item()\n",
    "        train_accu += torch.sum(preds == labels)\n",
    "    \n",
    "    \n",
    "    #### validation ####\n",
    "    model.eval()\n",
    "    val_loss = 0.\n",
    "    val_accu = 0.\n",
    "    for imgs, labels in dataloader['val']:\n",
    "        imgs, labels = imgs.to(device), labels.to(device)\n",
    "        \n",
    "        logit = model(imgs)\n",
    "        loss = criterion(logit, labels)\n",
    "        \n",
    "        _, preds = logit.max(dim=1)\n",
    "        val_loss += loss.item()\n",
    "        val_accu += torch.sum(preds == labels)\n",
    "    \n",
    "    print(f'Epoch {i}/{num_epoch}')\n",
    "    print('-' * 10)\n",
    "    print(f\"train_loss: {train_loss / len(dataloader['train'].dataset):.4f}\\ttrain_accuracy: {train_accu / len(dataloader['train'].dataset):.4f}\")\n",
    "    print(f\"val_loss: {val_loss / len(dataloader['val'].dataset):.4f}\\tval_accuracy: {val_accu / len(dataloader['val'].dataset):.4f}\")\n",
    "    print()"
   ]
  },
  {
   "cell_type": "code",
   "execution_count": 9,
   "id": "b8d9f43d-a0c0-42c1-819e-608643008e59",
   "metadata": {},
   "outputs": [],
   "source": [
    "# save model\n",
    "torch.save(model.state_dict(), f'./resnet18_epoch{num_epoch}.pth')"
   ]
  },
  {
   "cell_type": "code",
   "execution_count": null,
   "id": "982799cc-031d-484c-80d6-848807bdef87",
   "metadata": {},
   "outputs": [],
   "source": []
  }
 ],
 "metadata": {
  "kernelspec": {
   "display_name": "Python 3",
   "language": "python",
   "name": "python3"
  },
  "language_info": {
   "codemirror_mode": {
    "name": "ipython",
    "version": 3
   },
   "file_extension": ".py",
   "mimetype": "text/x-python",
   "name": "python",
   "nbconvert_exporter": "python",
   "pygments_lexer": "ipython3",
   "version": "3.8.5"
  }
 },
 "nbformat": 4,
 "nbformat_minor": 5
}
